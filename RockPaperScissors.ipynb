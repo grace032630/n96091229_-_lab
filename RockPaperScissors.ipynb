{
 "cells": [
  {
   "cell_type": "code",
   "execution_count": 2,
   "metadata": {},
   "outputs": [],
   "source": [
    "import string\n",
    "import random"
   ]
  },
  {
   "cell_type": "code",
   "execution_count": 3,
   "metadata": {},
   "outputs": [
    {
     "name": "stdout",
     "output_type": "stream",
     "text": [
      "Welcome to ROCK, PAPER, SCISSORS game!\n",
      "Enter your move: (r)ock (p)aper (s)cissors\n",
      "r\n",
      "ROCK versus...\n",
      "ROCK\n",
      "It is a tie!\n",
      "Enter your move: (r)ock (p)aper (s)cissors\n",
      "r\n",
      "ROCK versus...\n",
      "PAPER\n",
      "You lose!\n",
      "Enter your move: (r)ock (p)aper (s)cissors\n",
      "r\n",
      "ROCK versus...\n",
      "ROCK\n",
      "It is a tie!\n",
      "Enter your move: (r)ock (p)aper (s)cissors\n",
      "r\n",
      "ROCK versus...\n",
      "SCISSORS\n",
      "You win!\n",
      "You have 2 ties and 1 losses before your first win.\n"
     ]
    }
   ],
   "source": [
    "win=0\n",
    "loss=0\n",
    "ties=0\n",
    "print(\"Welcome to ROCK, PAPER, SCISSORS game!\")\n",
    "while win<1:    \n",
    "    print(\"Enter your move: (r)ock (p)aper (s)cissors\" )\n",
    "    list=[\"ROCK\",\"PAPER\",\"SCISSORS\"]    \n",
    "    computer = str(random.choice(list))\n",
    "    #print(computer)\n",
    "    move = str(input())\n",
    "    if move==\"r\":\n",
    "        print(\"ROCK versus...\")\n",
    "        if computer==\"PAPER\":\n",
    "            print(\"PAPER\")\n",
    "            loss+=1\n",
    "            print(\"You lose!\")\n",
    "        elif computer==\"ROCK\":\n",
    "            print(\"ROCK\")\n",
    "            ties+=1\n",
    "            print(\"It is a tie!\")\n",
    "        elif computer==\"SCISSORS\":\n",
    "            print(\"SCISSORS\")\n",
    "            print(\"You win!\")\n",
    "            win+=1\n",
    "    elif  move==\"p\":\n",
    "        print(\"PAPER versus...\")\n",
    "        if computer==\"PAPER\":\n",
    "            ties+=1\n",
    "            print(\"PAPER\")\n",
    "            print(\"It is a tie!\") \n",
    "        elif computer==\"ROCK\":\n",
    "            print(\"ROCK\")\n",
    "            win+=1\n",
    "            print(\"You win!\")    \n",
    "        elif computer==\"SCISSORS\":\n",
    "            print(\"SCISSORS\")\n",
    "            print(\"You loss!\")\n",
    "            loss+=1  \n",
    "    elif  move==\"s\":\n",
    "        print(\"SCISSORS versus...\")\n",
    "        if computer==\"PAPER\":\n",
    "            win+=1\n",
    "            print(\"PAPER\")\n",
    "            print(\"You win!\") \n",
    "        elif computer==\"ROCK\":\n",
    "            print(\"ROCK\")\n",
    "            loss+=1\n",
    "            print(\"You loss!\")    \n",
    "        elif computer==\"SCISSORS\":\n",
    "            print(\"SCISSORS\")\n",
    "            print(\"It is a tie!\")\n",
    "            ties+=1       \n",
    "print(\"You have \"+str(ties)+\" ties and \"+str(loss)+\" losses before your first win.\")"
   ]
  }
 ],
 "metadata": {
  "kernelspec": {
   "display_name": "Python 3",
   "language": "python",
   "name": "python3"
  },
  "language_info": {
   "codemirror_mode": {
    "name": "ipython",
    "version": 3
   },
   "file_extension": ".py",
   "mimetype": "text/x-python",
   "name": "python",
   "nbconvert_exporter": "python",
   "pygments_lexer": "ipython3",
   "version": "3.8.3"
  }
 },
 "nbformat": 4,
 "nbformat_minor": 4
}
