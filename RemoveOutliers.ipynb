{
 "cells": [
  {
   "cell_type": "code",
   "execution_count": 1,
   "metadata": {},
   "outputs": [],
   "source": [
    "def remove_outliers():\n",
    "    list=[]\n",
    "    outliers=[]\n",
    "    a=0\n",
    "    renum = int(input('Enter the number of smallest and largest values to remove:'))\n",
    "    while a<1:\n",
    "        if\"q\" or\"Q\" not in list:\n",
    "            num=input('Enter a value (q or Q to quit):')\n",
    "            list.append(num)\n",
    "        if\"Q\"in list:\n",
    "            a+=1\n",
    "            list.remove(\"Q\") \n",
    "            listn=[]\n",
    "            for i in range(0,len(list)):\n",
    "                listn.append(int(list[i])) \n",
    "            print(\"The original data:\"+str(listn))        \n",
    "            sortlist=sorted(listn)\n",
    "            outliers.append(sortlist[0:renum])\n",
    "            outliers.append(sortlist[len(sortlist)-renum:])\n",
    "            \n",
    "            outlier=[]\n",
    "            for i in range(0,renum):\n",
    "                outlier.append(outliers[0][i])\n",
    "                outlier.append(outliers[1][i])\n",
    "            \n",
    "            print(\"The data with the outliers removed:\"+str(sortlist[renum:len(sortlist)-renum]))\n",
    "            print(\"The outliers:\"+str(sorted(outlier)))\n",
    "        if\"q\"in list:\n",
    "            a+=1\n",
    "            list.remove(\"q\") \n",
    "            listn=[]\n",
    "            for i in range(0,len(list)):\n",
    "                listn.append(int(list[i])) \n",
    "            print(\"The original data:\"+str(listn))        \n",
    "            sortlist=sorted(listn)\n",
    "            outliers.append(sortlist[0:renum])\n",
    "            outliers.append(sortlist[len(sortlist)-renum:])   \n",
    "            \n",
    "            outlier=[]\n",
    "            for i in range(0,renum):\n",
    "                outlier.append(outliers[0][i])\n",
    "                outlier.append(outliers[1][i])       \n",
    "            print(\"The data with the outliers removed:\"+str(sortlist[renum:len(sortlist)-renum]))\n",
    "            print(\"The outliers:\"+str(sorted(outlier)))"
   ]
  },
  {
   "cell_type": "code",
   "execution_count": 2,
   "metadata": {},
   "outputs": [
    {
     "name": "stdout",
     "output_type": "stream",
     "text": [
      "Enter the number of smallest and largest values to remove:2\n",
      "Enter a value (q or Q to quit):34\n",
      "Enter a value (q or Q to quit):24\n",
      "Enter a value (q or Q to quit):454\n",
      "Enter a value (q or Q to quit):123\n",
      "Enter a value (q or Q to quit):435\n",
      "Enter a value (q or Q to quit):3234\n",
      "Enter a value (q or Q to quit):54\n",
      "Enter a value (q or Q to quit):3224\n",
      "Enter a value (q or Q to quit):Q\n",
      "The original data:[34, 24, 454, 123, 435, 3234, 54, 3224]\n",
      "The data with the outliers removed:[54, 123, 435, 454]\n",
      "The outliers:[24, 34, 3224, 3234]\n"
     ]
    }
   ],
   "source": [
    "remove_outliers()"
   ]
  }
 ],
 "metadata": {
  "kernelspec": {
   "display_name": "Python 3",
   "language": "python",
   "name": "python3"
  },
  "language_info": {
   "codemirror_mode": {
    "name": "ipython",
    "version": 3
   },
   "file_extension": ".py",
   "mimetype": "text/x-python",
   "name": "python",
   "nbconvert_exporter": "python",
   "pygments_lexer": "ipython3",
   "version": "3.8.3"
  }
 },
 "nbformat": 4,
 "nbformat_minor": 4
}
