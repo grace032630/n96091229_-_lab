{
 "cells": [
  {
   "cell_type": "code",
   "execution_count": 1,
   "metadata": {},
   "outputs": [],
   "source": [
    "import pygame\n",
    "import time"
   ]
  },
  {
   "cell_type": "code",
   "execution_count": 2,
   "metadata": {},
   "outputs": [],
   "source": [
    "WIN_WIDTH = 1024\n",
    "WIN_HEIGHT = 600\n",
    "BTN_WIDTH = 80\n",
    "BTN_HEIGHT = 80\n",
    "HP_WIDTH = 40\n",
    "HP_HEIGHT = 40\n",
    "FPS = 30\n",
    "# color (RGB)\n",
    "BLACK = (0, 0, 0)\n",
    "WHITE = (255, 255, 255)\n",
    "RED = (255, 0, 0)"
   ]
  },
  {
   "cell_type": "code",
   "execution_count": 3,
   "metadata": {},
   "outputs": [
    {
     "data": {
      "text/plain": [
       "(7, 0)"
      ]
     },
     "execution_count": 3,
     "metadata": {},
     "output_type": "execute_result"
    }
   ],
   "source": [
    "# initialization\n",
    "pygame.init()"
   ]
  },
  {
   "cell_type": "code",
   "execution_count": 4,
   "metadata": {},
   "outputs": [],
   "source": [
    "# load image (background, enemy, buttons)\n",
    "background_image = pygame.transform.scale(pygame.image.load(\"C:/Users/Quantum02/Desktop/pygame/lab02/images/map.png\"), (WIN_WIDTH, WIN_HEIGHT))\n",
    "enemy= pygame.transform.scale(pygame.image.load(\"C:/Users/Quantum02/Desktop/pygame/lab02/images/enemy.png\"),(100,100))\n",
    "hp=pygame.transform.scale(pygame.image.load(\"C:/Users/Quantum02/Desktop/pygame/lab02/images/hp.png\"),(50,50))\n",
    "hp_gray=pygame.transform.scale(pygame.image.load(\"C:/Users/Quantum02/Desktop/pygame/lab02/images/hp_gray.png\"),(50,50))\n",
    "muse=pygame.transform.scale(pygame.image.load(\"C:/Users/Quantum02/Desktop/pygame/lab02/images/muse.png\"),(80,80))\n",
    "continue_=pygame.transform.scale(pygame.image.load(\"C:/Users/Quantum02/Desktop/pygame/lab02/images/continue.png\"),(80,80))\n",
    "pause=pygame.transform.scale(pygame.image.load(\"C:/Users/Quantum02/Desktop/pygame/lab02/images/pause.png\"),(80,80))\n",
    "sound=pygame.transform.scale(pygame.image.load(\"C:/Users/Quantum02/Desktop/pygame/lab02/images/sound.png\"),(80,80))\n",
    "# ...(to be done)"
   ]
  },
  {
   "cell_type": "code",
   "execution_count": 5,
   "metadata": {},
   "outputs": [],
   "source": [
    "# set the title\n",
    "pygame.display.set_caption(\"My first game\")\n",
    "win=pygame.display.set_mode((WIN_WIDTH,WIN_HEIGHT))\n",
    "# ... (to be done)\n",
    "class Game:\n",
    "    def __init__(self):\n",
    "        # window\n",
    "        win=pygame.display.set_mode((WIN_WIDTH,WIN_HEIGHT))\n",
    "        # ...(to be done)\n",
    "        # hp\n",
    "        self.hp = 7\n",
    "        self.max_hp = 10\n",
    "        pass\n",
    "    def game_run(self):\n",
    "        # game loop\n",
    "        run = True\n",
    "        while run:\n",
    "            # event loop\n",
    "                # ... (to be done)\n",
    "            # draw background\n",
    "            win.fill((250, 250, 250))\n",
    "            win.blit(background_image, (0, 0))\n",
    "            # ...(to be done)\n",
    "            # draw enemy and health bar          \n",
    "            win.blit(enemy, (100, 400))\n",
    "            pygame.draw.rect(win, (250, 0, 0), [125,390,50,10])\n",
    "            # ...(to be done)\n",
    "            # draw menu (and buttons)\n",
    "            pygame.draw.rect(win, (0, 0, 0), [0,0,1024,100])\n",
    "            win.blit(muse, (1024-320, 25))\n",
    "            win.blit(sound, (1024-240, 25))\n",
    "            win.blit(continue_, (1024-180, 25))\n",
    "            win.blit(pause, (1024-100, 25))\n",
    "            for j in range(2):\n",
    "                for i in range(5):\n",
    "                    win.blit(hp_gray, (400+50*i, 0+50*j))\n",
    "            for i in range(5):\n",
    "                    win.blit(hp, (400+50*i, 0))\n",
    "            win.blit(hp, (400, 50))\n",
    "            win.blit(hp, (400+50, 50))\n",
    "            # (... to be done)\n",
    "            # draw time\n",
    "            # ...(to be done)\n",
    "            pygame.display.update()\n",
    "            for event in pygame.event.get():\n",
    "                if event.type == pygame.QUIT:\n",
    "                    run = False\n",
    "            pygame.display.update()\n",
    "        pygame.quit()\n",
    "if __name__ == \"__main__\":\n",
    "    covid_game = Game()\n",
    "    covid_game.game_run()"
   ]
  }
 ],
 "metadata": {
  "kernelspec": {
   "display_name": "Python 3",
   "language": "python",
   "name": "python3"
  },
  "language_info": {
   "codemirror_mode": {
    "name": "ipython",
    "version": 3
   },
   "file_extension": ".py",
   "mimetype": "text/x-python",
   "name": "python",
   "nbconvert_exporter": "python",
   "pygments_lexer": "ipython3",
   "version": "3.8.3"
  }
 },
 "nbformat": 4,
 "nbformat_minor": 4
}
